{
 "cells": [
  {
   "cell_type": "code",
   "execution_count": null,
   "id": "09775549",
   "metadata": {},
   "outputs": [
    {
     "name": "stdout",
     "output_type": "stream",
     "text": [
      "https://fangj.github.io/friends/season/0801.html\n",
      "Webpage downloaded and processed successfully.\n",
      "Cleaned webpage content saved to friends_S8_E1.txt.\n",
      "https://fangj.github.io/friends/season/0802.html\n",
      "Webpage downloaded and processed successfully.\n",
      "Cleaned webpage content saved to friends_S8_E2.txt.\n",
      "https://fangj.github.io/friends/season/0803.html\n",
      "Webpage downloaded and processed successfully.\n",
      "Cleaned webpage content saved to friends_S8_E3.txt.\n"
     ]
    }
   ],
   "source": [
    "from bs4 import BeautifulSoup\n",
    "import requests\n",
    "import os \n",
    "\n",
    "# os.environ['HTTP_PROXY'] = 'http://127.0.0.1:3128'\n",
    "# os.environ['HTTPS_PROXY'] = 'http://127.0.0.1:3128'\n",
    "\n",
    "# proxies = {\n",
    "#     \"http\": \"http://127.0.0.1:3128\",\n",
    "#     \"https\": \"http://127.0.0.1:3128\",\n",
    "# }\n",
    "\n",
    "episodes = [1, 2, 3]\n",
    "\n",
    "seasons = [8]\n",
    "\n",
    "for season in seasons:\n",
    "    for episode in episodes:\n",
    "\n",
    "        # URL of the webpage\n",
    "        url = 'https://fangj.github.io/friends/season/0' + str(season) + '0' + str(episode) + '.html'\n",
    "        print(url)\n",
    "\n",
    "        # Headers to mimic a browser\n",
    "        headers = {\n",
    "            'User-Agent': 'Mozilla/5.0 (Windows NT 10.0; Win64; x64) AppleWebKit/537.36 (KHTML, like Gecko) Chrome/91.0.4472.124 Safari/537.36'\n",
    "        }\n",
    "\n",
    "        response = requests.get(url, headers=headers)\n",
    "\n",
    "        # Check if the request was successful\n",
    "        if response.status_code == 200:\n",
    "            webpage_content = response.text\n",
    "            soup = BeautifulSoup(webpage_content, 'html.parser')\n",
    "            \n",
    "            # Extract the text content\n",
    "            text_content = soup.get_text(separator=' ', strip=True)  # Use space as a separator instead of newlines\n",
    "            cleaned_text = ' '.join(text_content.split())  # Remove excessive spaces and newlines\n",
    "            print(\"Webpage downloaded and processed successfully.\")\n",
    "            \n",
    "            # Save the cleaned text content to a file\n",
    "            with open('friends_S' + str(season) + '_E' + str(episode) +'.txt', 'w') as file:\n",
    "                file.write(text_content)\n",
    "            print(\"Cleaned webpage content saved to friends_S\" + str(season) + \"_E\" + str(episode) +\".txt.\")\n",
    "        else:\n",
    "            print(f\"Failed to download webpage. Status code: {response.status_code}\")"
   ]
  },
  {
   "cell_type": "code",
   "execution_count": null,
   "id": "cdc77cf5",
   "metadata": {},
   "outputs": [],
   "source": []
  }
 ],
 "metadata": {
  "kernelspec": {
   "display_name": "mad-rag-env",
   "language": "python",
   "name": "python3"
  },
  "language_info": {
   "codemirror_mode": {
    "name": "ipython",
    "version": 3
   },
   "file_extension": ".py",
   "mimetype": "text/x-python",
   "name": "python",
   "nbconvert_exporter": "python",
   "pygments_lexer": "ipython3",
   "version": "3.8.20"
  }
 },
 "nbformat": 4,
 "nbformat_minor": 5
}
