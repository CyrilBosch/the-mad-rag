{
 "cells": [
  {
   "cell_type": "code",
   "execution_count": 1,
   "id": "07891791",
   "metadata": {},
   "outputs": [
    {
     "name": "stderr",
     "output_type": "stream",
     "text": [
      "/home/hay4hi/miniconda3/envs/testing-faiss/lib/python3.9/site-packages/tqdm/auto.py:21: TqdmWarning: IProgress not found. Please update jupyter and ipywidgets. See https://ipywidgets.readthedocs.io/en/stable/user_install.html\n",
      "  from .autonotebook import tqdm as notebook_tqdm\n"
     ]
    }
   ],
   "source": [
    "from sentence_transformers import SentenceTransformer\n",
    "model = SentenceTransformer('all-MiniLM-L6-v2')  # Small & fast"
   ]
  },
  {
   "cell_type": "code",
   "execution_count": 2,
   "id": "44360d15",
   "metadata": {},
   "outputs": [
    {
     "name": "stdout",
     "output_type": "stream",
     "text": [
      "['friends_S3_E2.txt', 'friends_S2_E1.txt', 'friends_S7_E12.txt', 'friends_S10_E9.txt', 'friends_S3_E10.txt', 'friends_S8_E20.txt', 'friends_S4_E2.txt', 'friends_S5_E9.txt', 'friends_S5_E13.txt', 'friends_S9_E19.txt', 'friends_S2_E3.txt', 'friends_S3_E7.txt', 'friends_S3_E22.txt', 'friends_S3_E15.txt', 'friends_S4_E7.txt', 'friends_S3_E11.txt', 'friends_S4_E3.txt', 'friends_S10_E12.txt', 'friends_S6_E3.txt', 'friends_S10_E4.txt', 'friends_S8_E17.txt', 'friends_S6_E7.txt', 'friends_S7_E16.txt', 'friends_S10_E14.txt', 'friends_S9_E11.txt', 'friends_S5_E4.txt', 'friends_S10_E10.txt', 'friends_S4_E4.txt', 'friends_S6_E18.txt', 'friends_S10_E6.txt', 'friends_S7_E21.txt', 'friends_S10_E1.txt', 'friends_S8_E7.txt', 'friends_S5_E20.txt', 'friends_S2_E20.txt', 'friends_S1_E2.txt', 'friends_S1_E7.txt', 'friends_S2_E11.txt', 'friends_S6_E23.txt', 'friends_S8_E19.txt', 'friends_S5_E7.txt', 'friends_S9_E12.txt', 'friends_S6_E2.txt', 'friends_S10_E16.txt', 'friends_S3_E12.txt', 'friends_S8_E14.txt', 'friends_S6_E19.txt', 'friends_S7_E4.txt', 'friends_S10_E15.txt', 'friends_S1_E24.txt', 'friends_S9_E15.txt', 'friends_S9_E2.txt', 'friends_S7_E3.txt', 'friends_S2_E2.txt', 'friends_S5_E22.txt', 'friends_S8_E11.txt', 'friends_S10_E8.txt', 'friends_S3_E16.txt', 'friends_S2_E7.txt', 'friends_S5_E6.txt', 'friends_S2_E14.txt', 'friends_S5_E11.txt', 'friends_S3_E8.txt', 'friends_S1_E1.txt', 'friends_S4_E19.txt', 'friends_S8_E1.txt', 'friends_S3_E13.txt', 'friends_S3_E1.txt', 'friends_S10_E2.txt', 'friends_S7_E7.txt', 'friends_S6_E20.txt', 'friends_S4_E21.txt', 'friends_S9_E4.txt', 'friends_S5_E23.txt', 'friends_S2_E23.txt', 'friends_S5_E10.txt', 'friends_S9_E3.txt', 'friends_S5_E12.txt', 'friends_S5_E17.txt', 'friends_S3_E3.txt', 'friends_S3_E6.txt', 'friends_S1_E18.txt', 'friends_S2_E9.txt', 'friends_S4_E13.txt', 'friends_S4_E10.txt', 'friends_S8_E23.txt', 'friends_S8_E3.txt', 'friends_S6_E24.txt', 'friends_S8_E18.txt', 'friends_S7_E11.txt', 'friends_S1_E3.txt', 'friends_S4_E11.txt', 'friends_S10_E5.txt', 'friends_S3_E19.txt', 'friends_S7_E19.txt', 'friends_S1_E10.txt', 'friends_S4_E18.txt', 'friends_S6_E11.txt', 'friends_S9_E16.txt', 'friends_S6_E17.txt', 'friends_S2_E19.txt', 'friends_S7_E17.txt', 'friends_S1_E4.txt', 'friends_S8_E9.txt', 'friends_S5_E15.txt', 'friends_S9_E6.txt', 'friends_S4_E15.txt', 'friends_S2_E8.txt', 'friends_S6_E5.txt', 'friends_S4_E16.txt', 'friends_S8_E8.txt', 'friends_S7_E9.txt', 'friends_S3_E4.txt', 'friends_S9_E21.txt', 'friends_S9_E10.txt', 'friends_S6_E14.txt', 'friends_S6_E1.txt', 'friends_S1_E23.txt', 'friends_S3_E24.txt', 'friends_S2_E17.txt', 'friends_S6_E10.txt', 'friends_S6_E12.txt', 'friends_S2_E18.txt', 'friends_S6_E22.txt', 'friends_S2_E24.txt', 'friends_S4_E6.txt', 'friends_S9_E20.txt', 'friends_S1_E17.txt', 'friends_S7_E8.txt', 'friends_S7_E13.txt', 'friends_S1_E9.txt', 'friends_S4_E5.txt', 'friends_S3_E21.txt', 'friends_S1_E13.txt', 'friends_S2_E21.txt', 'friends_S1_E16.txt', 'friends_S3_E9.txt', 'friends_S5_E14.txt', 'friends_S9_E7.txt', 'friends_S7_E18.txt', 'friends_S2_E4.txt', 'friends_S1_E14.txt', 'friends_S7_E6.txt', 'friends_S4_E12.txt', 'friends_S3_E20.txt', 'friends_S7_E20.txt', 'friends_S8_E10.txt', 'friends_S4_E17.txt', 'friends_S8_E22.txt', 'friends_S1_E12.txt', 'friends_S5_E8.txt', 'friends_S10_E7.txt', 'friends_S1_E20.txt', 'friends_S8_E15.txt', 'friends_S6_E8.txt', 'friends_S8_E13.txt', 'friends_S7_E22.txt', 'friends_S8_E4.txt', 'friends_S8_E5.txt', 'friends_S8_E16.txt', 'friends_S5_E18.txt', 'friends_S1_E5.txt', 'friends_S9_E14.txt', 'friends_S9_E22.txt', 'friends_S7_E2.txt', 'friends_S2_E6.txt', 'friends_S9_E18.txt', 'friends_S5_E5.txt', 'friends_S2_E10.txt', 'friends_S3_E14.txt', 'friends_S6_E9.txt', 'friends_S7_E1.txt', 'friends_S9_E9.txt', 'friends_S10_E13.txt', 'friends_S7_E14.txt', 'friends_S5_E1.txt', 'friends_S8_E12.txt', 'friends_S10_E11.txt', 'friends_S8_E6.txt', 'friends_S3_E23.txt', 'friends_S1_E15.txt', 'friends_S4_E22.txt', 'friends_S1_E11.txt', 'friends_S1_E19.txt', 'friends_S3_E17.txt', 'friends_S9_E13.txt', 'friends_S1_E8.txt', 'friends_S4_E9.txt', 'friends_S8_E21.txt', 'friends_S3_E5.txt', 'friends_S4_E8.txt', 'friends_S6_E6.txt', 'friends_S3_E18.txt', 'friends_S4_E1.txt', 'friends_S10_E3.txt', 'friends_S6_E13.txt', 'friends_S6_E4.txt', 'friends_S7_E23.txt', 'friends_S9_E17.txt', 'friends_S8_E2.txt', 'friends_S5_E2.txt', 'friends_S7_E10.txt', 'friends_S2_E15.txt', 'friends_S4_E14.txt', 'friends_S1_E21.txt', 'friends_S7_E5.txt', 'friends_S6_E21.txt', 'friends_S2_E22.txt', 'friends_S5_E21.txt', 'friends_S4_E23.txt', 'friends_S5_E16.txt', 'friends_S7_E15.txt', 'friends_S9_E1.txt', 'friends_S5_E3.txt', 'friends_S9_E5.txt', 'friends_S1_E6.txt', 'friends_S4_E20.txt', 'friends_S2_E5.txt', 'friends_S5_E19.txt', 'friends_S2_E16.txt', 'friends_S9_E8.txt', 'friends_S1_E22.txt']\n"
     ]
    }
   ],
   "source": [
    "import os\n",
    "from  chunking import Chunking\n",
    "\n",
    "database_path = \"/home/hay4hi/development/SW/MNXT-NAL3D/nal3d/repos/the-mad-rag/database_friends_big\"\n",
    "text_files = [f for f in os.listdir(database_path) if f.endswith('.txt')]\n",
    "print(text_files)\n",
    "\n",
    "database_embeddings = []\n",
    "database_chunked = []\n",
    "\n",
    "# Read the text document\n",
    "for text_file in text_files:\n",
    "    with open(os.path.join(database_path, text_file), 'r') as file:\n",
    "        large_document = file.read()\n",
    "\n",
    "    chunker = Chunking()\n",
    "\n",
    "    # Step 1: Divide the text into chunks (e.g., sentences)\n",
    "    #chunker.chunking_into_sentences(large_document)\n",
    "    chunker.chunking_sliding_window(large_document, window_size=10, stride=1)\n",
    "    database_chunked.extend(chunker.chunks)"
   ]
  },
  {
   "cell_type": "code",
   "execution_count": 3,
   "id": "ce470460",
   "metadata": {},
   "outputs": [],
   "source": [
    "import numpy as np\n",
    "database_embeddings = model.encode(database_chunked)\n",
    "database_embeddings = np.array(database_embeddings).astype('float32')"
   ]
  },
  {
   "cell_type": "code",
   "execution_count": 4,
   "id": "5e68554e",
   "metadata": {},
   "outputs": [
    {
     "data": {
      "text/plain": [
       "(109301, 384)"
      ]
     },
     "execution_count": 4,
     "metadata": {},
     "output_type": "execute_result"
    }
   ],
   "source": [
    "database_embeddings.shape"
   ]
  },
  {
   "cell_type": "code",
   "execution_count": 5,
   "id": "2efa570a",
   "metadata": {},
   "outputs": [],
   "source": [
    "import faiss\n",
    "dimension = database_embeddings.shape[1]  # 384 for MiniLM\n",
    "index = faiss.IndexFlatL2(dimension)\n",
    "index.add(database_embeddings)"
   ]
  },
  {
   "cell_type": "code",
   "execution_count": 6,
   "id": "5aa5e1ff",
   "metadata": {},
   "outputs": [],
   "source": [
    "query = \"what is the backpacking story ?\"\n",
    "query_embedding = model.encode([query]).astype('float32')"
   ]
  },
  {
   "cell_type": "code",
   "execution_count": 7,
   "id": "59d5ccbb",
   "metadata": {},
   "outputs": [
    {
     "name": "stdout",
     "output_type": "stream",
     "text": [
      "\n",
      "Query: what is the backpacking story ?\n",
      "\n",
      "Rank 1: Y’know umm,\n",
      "a few years ago I actually was backpacking across Western Europe. Kristen: Really? Ross: Uh-hmm—Wait! It gets better. Um, yeah I was in Barcelona. Kristen: I studied for a year in Barcelona. (Ross is stunned and worried.) Ross: Anyway, umm so I was um, I was hiking… Kristen: I love hiking! Ross: (whines) Oh that’s great! I was hiking along the foothills of Mount\n",
      "Tibidaybo… Kristen: I think its Tibidabo. (Distance: 1.0901)\n",
      "Rank 2: In the\n",
      "biggest library in the university! (They start heading that way, towards a secluded\n",
      "section behind the racks.) Chandler: Wow that’s actually pretty cool. Ross: (stopping quickly) Oh umm, there’s also a book here by a woman named\n",
      "Wendy Bagina. (They both laugh, but stop when the hear moaning coming from the next\n",
      "aisle.) What is that? Chandler: Sounds like two people are really enjoying the Dewey decimal system. (They go around the last row of bookshelves and find a couple doing what college coeds\n",
      "do in secluded corners of university libraries. For those of you who don’t know what\n",
      "I’m talking about, let’s just say that clothing is undone. Ross gasps and the\n",
      "couple gets up and runs away.) (Distance: 1.1223)\n",
      "Rank 3: Oh-oh, I got something. It’s this story I\n",
      "came up with, very romantic. I swear any woman that hears it; they’re like putty. Ross: Really? Well then tell it to me. Joey: Okay. Now you’re gonna want to have sex with me when you hear it, but\n",
      "you have to remember it is just the story. Ross: (sarcastic) I’ll try to control myself. Joey: Okay. (Clears throat) Years ago, when I was backpacking across Western\n",
      "Europe… Ross: (laughs) You were backpacking across Western Europe? (Distance: 1.1343)\n"
     ]
    }
   ],
   "source": [
    "k = 3  # top 3 most similar sentences\n",
    "D, I = index.search(query_embedding, k)\n",
    "\n",
    "# 7. Output results\n",
    "print(f\"\\nQuery: {query}\\n\")\n",
    "for i, idx in enumerate(I[0]):\n",
    "    print(f\"Rank {i+1}: {database_chunked[idx]} (Distance: {D[0][i]:.4f})\")"
   ]
  },
  {
   "cell_type": "code",
   "execution_count": null,
   "id": "6b6dac36",
   "metadata": {},
   "outputs": [],
   "source": []
  }
 ],
 "metadata": {
  "kernelspec": {
   "display_name": "testing-faiss",
   "language": "python",
   "name": "python3"
  },
  "language_info": {
   "codemirror_mode": {
    "name": "ipython",
    "version": 3
   },
   "file_extension": ".py",
   "mimetype": "text/x-python",
   "name": "python",
   "nbconvert_exporter": "python",
   "pygments_lexer": "ipython3",
   "version": "3.9.21"
  }
 },
 "nbformat": 4,
 "nbformat_minor": 5
}
